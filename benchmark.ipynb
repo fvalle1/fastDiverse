{
 "cells": [
  {
   "cell_type": "code",
   "execution_count": null,
   "source": [
    "import os\n",
    "import pandas as pd\n",
    "import numpy as np\n",
    "import build.pydiversity as pydiversity\n"
   ],
   "outputs": [],
   "metadata": {}
  },
  {
   "cell_type": "code",
   "execution_count": null,
   "source": [
    "%%timeit\n",
    "df = pd.read_csv(\"mainTable.csv\", index_col=0)\n",
    "diversities = df.apply(lambda x: len(np.unique(x)))\n",
    "diversities.to_csv(\"diversities_py.csv\", index=False, header=None)"
   ],
   "outputs": [],
   "metadata": {}
  },
  {
   "cell_type": "code",
   "execution_count": null,
   "source": [
    "%%timeit\n",
    "pydiversity.diversity(\"mainTable.csv\", 1, True)\n"
   ],
   "outputs": [],
   "metadata": {}
  },
  {
   "cell_type": "code",
   "execution_count": null,
   "source": [
    "%%timeit\n",
    "pydiversity.diversity(\"mainTable.csv\", 12, True)\n"
   ],
   "outputs": [],
   "metadata": {}
  },
  {
   "cell_type": "code",
   "execution_count": null,
   "source": [
    "%%timeit\n",
    "os.system(\"./diversity.out mainTable.csv 1\")\n"
   ],
   "outputs": [],
   "metadata": {}
  },
  {
   "cell_type": "code",
   "execution_count": null,
   "source": [
    "%%timeit\n",
    "os.system(\"./diversity.out mainTable.csv 12\")\n"
   ],
   "outputs": [],
   "metadata": {}
  },
  {
   "cell_type": "code",
   "execution_count": null,
   "source": [
    "import plotly.graph_objects as go\n",
    "times = np.array([3.220, 1.682, 1.181, 1.005, 0.750, 0.721,\n",
    "         0.733, 0.743, 0.768, 0.707, 0.682, 0.650])\n",
    "\n",
    "speedups = 1-times/times.max()\n",
    "fig = go.Figure()\n",
    "fig.add_trace(go.Scatter(x=list(range(1, 13)),\n",
    "              y=speedups, marker={\"size\": 15}))\n",
    "fig.update_layout({\n",
    "    \"xaxis\":{\"title\":\"threads\"},\n",
    "    \"yaxis\":{\"title\":\"speedup\"}\n",
    "})\n"
   ],
   "outputs": [],
   "metadata": {}
  },
  {
   "cell_type": "code",
   "execution_count": null,
   "source": [],
   "outputs": [],
   "metadata": {}
  }
 ],
 "metadata": {
  "orig_nbformat": 4,
  "language_info": {
   "name": "python",
   "version": "3.9.5",
   "mimetype": "text/x-python",
   "codemirror_mode": {
    "name": "ipython",
    "version": 3
   },
   "pygments_lexer": "ipython3",
   "nbconvert_exporter": "python",
   "file_extension": ".py"
  },
  "kernelspec": {
   "name": "python3",
   "display_name": "Python 3.7.3 64-bit"
  },
  "interpreter": {
   "hash": "31f2aee4e71d21fbe5cf8b01ff0e069b9275f58929596ceb00d14d90e3e16cd6"
  }
 },
 "nbformat": 4,
 "nbformat_minor": 2
}